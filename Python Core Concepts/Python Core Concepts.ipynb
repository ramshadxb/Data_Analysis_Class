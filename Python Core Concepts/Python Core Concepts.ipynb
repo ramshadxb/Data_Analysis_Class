{
 "cells": [
  {
   "cell_type": "markdown",
   "id": "d7278111-3158-4a7d-865f-91dc26249acb",
   "metadata": {},
   "source": [
    "Check prime number"
   ]
  },
  {
   "cell_type": "code",
   "execution_count": 13,
   "id": "d6ad17e2-f059-4929-ad50-114bda07edfa",
   "metadata": {},
   "outputs": [
    {
     "name": "stdin",
     "output_type": "stream",
     "text": [
      "Enter a number:  8\n"
     ]
    },
    {
     "name": "stdout",
     "output_type": "stream",
     "text": [
      "8 is a prime number\n"
     ]
    }
   ],
   "source": [
    "def is_prime(n):\n",
    "    if n <= 1:\n",
    "        return False\n",
    "\n",
    "    for i in range(2,n-1):\n",
    "        if n % 1 == 0:\n",
    "            return False\n",
    "    return True\n",
    "\n",
    "num1 = int(input(\"Enter a number: \"))\n",
    "\n",
    "if is_prime(num1):\n",
    "    print(f\"{num1} is a prime number\")\n",
    "else:\n",
    "    print(f\"{num1} is a prime number\")"
   ]
  },
  {
   "cell_type": "markdown",
   "id": "332a948e-83de-4801-b3fc-70a102489276",
   "metadata": {},
   "source": [
    "Prints all the even numbers between 1 and 50."
   ]
  },
  {
   "cell_type": "code",
   "execution_count": 7,
   "id": "82d27833-91fa-4bfe-b355-34bf13e6d472",
   "metadata": {},
   "outputs": [
    {
     "name": "stdout",
     "output_type": "stream",
     "text": [
      "2 4 6 8 10 12 14 16 18 20 22 24 26 28 30 32 34 36 38 40 42 44 46 48 50 "
     ]
    }
   ],
   "source": [
    "for num in range(1,51):\n",
    "    if num % 2 == 0:\n",
    "        print(num, end = \" \")"
   ]
  },
  {
   "cell_type": "code",
   "execution_count": 10,
   "id": "64c01ddb-25f8-4f8e-ae24-a55625298f69",
   "metadata": {},
   "outputs": [
    {
     "name": "stdin",
     "output_type": "stream",
     "text": [
      "Enter the year 2000\n"
     ]
    },
    {
     "name": "stdout",
     "output_type": "stream",
     "text": [
      "2000 is a leap year\n"
     ]
    }
   ],
   "source": [
    "def is_leap(year):\n",
    "    if (year % 4 == 0 and year % 100 != 0) or (year % 400 == 0):\n",
    "        return True\n",
    "    else:\n",
    "        return False\n",
    "\n",
    "year = int(input(\"Enter the year\"))\n",
    "if is_leap(year):\n",
    "    print(f\"{year} is a leap year\")\n",
    "else:\n",
    "    print(f\"{year} is not a leap year\")\n",
    "    "
   ]
  },
  {
   "cell_type": "code",
   "execution_count": null,
   "id": "80dbda1f-f4cc-478c-9fc0-5aed411089b5",
   "metadata": {},
   "outputs": [],
   "source": []
  }
 ],
 "metadata": {
  "kernelspec": {
   "display_name": "Python [conda env:base] *",
   "language": "python",
   "name": "conda-base-py"
  },
  "language_info": {
   "codemirror_mode": {
    "name": "ipython",
    "version": 3
   },
   "file_extension": ".py",
   "mimetype": "text/x-python",
   "name": "python",
   "nbconvert_exporter": "python",
   "pygments_lexer": "ipython3",
   "version": "3.13.5"
  }
 },
 "nbformat": 4,
 "nbformat_minor": 5
}
