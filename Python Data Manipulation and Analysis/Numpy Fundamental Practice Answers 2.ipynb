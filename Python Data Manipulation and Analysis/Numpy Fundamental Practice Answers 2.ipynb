{
 "cells": [
  {
   "cell_type": "code",
   "execution_count": 1,
   "id": "cd8a95fe-a8ca-4b66-b887-190edbb3151d",
   "metadata": {},
   "outputs": [],
   "source": [
    "import numpy as np"
   ]
  },
  {
   "cell_type": "code",
   "execution_count": 2,
   "id": "e03276f2-b467-42a7-9d38-d7f913d86211",
   "metadata": {},
   "outputs": [],
   "source": [
    "arr1 = np.arange(100,111)"
   ]
  },
  {
   "cell_type": "code",
   "execution_count": 3,
   "id": "bb9807db-c57c-4832-be88-7b297c1130e3",
   "metadata": {},
   "outputs": [
    {
     "name": "stdout",
     "output_type": "stream",
     "text": [
      "[100 101 102 103 104 105 106 107 108 109 110]\n"
     ]
    }
   ],
   "source": [
    "print(arr1)"
   ]
  },
  {
   "cell_type": "code",
   "execution_count": 6,
   "id": "b57db298-93e7-4594-a806-9c24b7ea8399",
   "metadata": {},
   "outputs": [],
   "source": [
    "arr2 = np.arange(1,13).reshape(4,3)"
   ]
  },
  {
   "cell_type": "code",
   "execution_count": 7,
   "id": "014902f7-58b5-4872-a268-e19cc4460c71",
   "metadata": {},
   "outputs": [
    {
     "name": "stdout",
     "output_type": "stream",
     "text": [
      "[[ 1  2  3]\n",
      " [ 4  5  6]\n",
      " [ 7  8  9]\n",
      " [10 11 12]]\n"
     ]
    }
   ],
   "source": [
    "print(arr2)"
   ]
  },
  {
   "cell_type": "code",
   "execution_count": 9,
   "id": "113336ce-30db-4754-8f8b-e9d97553d90c",
   "metadata": {},
   "outputs": [
    {
     "name": "stdout",
     "output_type": "stream",
     "text": [
      "[[[ 5 43]\n",
      "  [ 9 35]\n",
      "  [ 1 14]]\n",
      "\n",
      " [[12 30]\n",
      "  [ 6 43]\n",
      "  [39 15]]]\n"
     ]
    }
   ],
   "source": [
    "arr3 = np.random.randint(1,51,size=(2,3,2))\n",
    "print(arr3)"
   ]
  },
  {
   "cell_type": "code",
   "execution_count": 15,
   "id": "f3c0e1f8-029f-4c82-b59c-076c41319493",
   "metadata": {},
   "outputs": [
    {
     "name": "stdout",
     "output_type": "stream",
     "text": [
      "2\n",
      "(4, 3)\n",
      "12\n",
      "int64\n",
      "8\n",
      "96\n"
     ]
    }
   ],
   "source": [
    "print(arr2.ndim)\n",
    "print(arr2.shape)\n",
    "print(arr2.size)\n",
    "print(arr2.dtype)\n",
    "print(arr2.itemsize)\n",
    "print(arr2.nbytes)"
   ]
  },
  {
   "cell_type": "code",
   "execution_count": 17,
   "id": "71940a06-f81e-44b5-ae33-dab8765285f8",
   "metadata": {},
   "outputs": [
    {
     "name": "stdout",
     "output_type": "stream",
     "text": [
      "[1 2 7]\n"
     ]
    }
   ],
   "source": [
    "arr4 = np.array([1.5,2.3,7.9])\n",
    "arr5 = arr4.astype(int)\n",
    "print(arr5)"
   ]
  },
  {
   "cell_type": "code",
   "execution_count": 18,
   "id": "d9457f68-7962-4e89-9ac2-9cbb0957e609",
   "metadata": {},
   "outputs": [
    {
     "name": "stdout",
     "output_type": "stream",
     "text": [
      "[[ 1  2  3  4  5]\n",
      " [ 6  7  8  9 10]\n",
      " [11 12 13 14 15]\n",
      " [16 17 18 19 20]\n",
      " [21 22 23 24 25]]\n"
     ]
    }
   ],
   "source": [
    "arr = np.arange(1,26).reshape(5,5)\n",
    "print(arr)"
   ]
  },
  {
   "cell_type": "code",
   "execution_count": 19,
   "id": "a9273c00-ca4a-47a4-89de-1ec6a54ea47c",
   "metadata": {},
   "outputs": [
    {
     "name": "stdout",
     "output_type": "stream",
     "text": [
      "[ 6  7  8  9 10]\n"
     ]
    }
   ],
   "source": [
    "print(arr[1])"
   ]
  },
  {
   "cell_type": "code",
   "execution_count": 20,
   "id": "2641fead-ea14-4118-90f4-fa5accb90969",
   "metadata": {},
   "outputs": [
    {
     "name": "stdout",
     "output_type": "stream",
     "text": [
      "[ 3  8 13 18 23]\n"
     ]
    }
   ],
   "source": [
    "print(arr[:,2])"
   ]
  },
  {
   "cell_type": "code",
   "execution_count": 22,
   "id": "c88da01f-2b9d-45f4-88d3-236b07be8c28",
   "metadata": {},
   "outputs": [
    {
     "name": "stdout",
     "output_type": "stream",
     "text": [
      "[ 5  6  7  8  9 10 11 12 13 14 15]\n"
     ]
    }
   ],
   "source": [
    "arr6 = np.arange(5,16)\n",
    "print(arr6)"
   ]
  },
  {
   "cell_type": "code",
   "execution_count": 25,
   "id": "88c2f5db-09c4-4c29-a3a6-d935d1dfe992",
   "metadata": {},
   "outputs": [
    {
     "name": "stdout",
     "output_type": "stream",
     "text": [
      "[ 50  60  70  80  90 100 110 120 130 140 150]\n",
      "[ 25  36  49  64  81 100 121 144 169 196 225]\n",
      "[ 2  3  4  5  6  7  8  9 10 11 12]\n"
     ]
    }
   ],
   "source": [
    "print(arr6 * 10)\n",
    "print(arr6 ** 2)\n",
    "print(arr6 - 3)"
   ]
  },
  {
   "cell_type": "code",
   "execution_count": 26,
   "id": "0a7848f9-4a3b-47f7-900a-d786e48536bc",
   "metadata": {},
   "outputs": [],
   "source": [
    "arr7 = np.array([12, 15, 20, 22, 30, 45])"
   ]
  },
  {
   "cell_type": "code",
   "execution_count": 34,
   "id": "b434098d-7cd4-4596-aea4-ebdd10e157f1",
   "metadata": {},
   "outputs": [
    {
     "name": "stdout",
     "output_type": "stream",
     "text": [
      "144\n",
      "24.0\n",
      "21.0\n",
      "10.969655114602888\n",
      "12\n",
      "45\n"
     ]
    }
   ],
   "source": [
    "print(np.sum(arr7))\n",
    "print(np.mean(arr7))\n",
    "print(np.median(arr7))\n",
    "print(np.std(arr7))\n",
    "print(np.min(arr7))\n",
    "print(np.max(arr7))"
   ]
  },
  {
   "cell_type": "code",
   "execution_count": 35,
   "id": "18f04b46-ea22-47b6-8750-c44614cd1447",
   "metadata": {},
   "outputs": [],
   "source": [
    "arr8 = np.array([2, 4, 6, 8, 10])"
   ]
  },
  {
   "cell_type": "code",
   "execution_count": 41,
   "id": "5811a8b6-0b10-4ce0-ad6c-41e9ff1e2867",
   "metadata": {},
   "outputs": [
    {
     "name": "stdout",
     "output_type": "stream",
     "text": [
      "[ 6  8 10]\n",
      "[ 2  4  6  8 10]\n",
      "(array([2, 3, 4]),)\n"
     ]
    }
   ],
   "source": [
    "print(arr8[arr8>5])\n",
    "print(arr8[arr8 % 2 == 0])\n",
    "print(np.where(arr8 > 5))"
   ]
  },
  {
   "cell_type": "code",
   "execution_count": 45,
   "id": "e0c6c735-4e0c-41a4-bd2d-2fff6f0ac8ce",
   "metadata": {},
   "outputs": [
    {
     "name": "stdout",
     "output_type": "stream",
     "text": [
      "[False  True  True False]\n",
      "[False False False False]\n",
      "[ True False False  True]\n",
      "[2 3]\n"
     ]
    }
   ],
   "source": [
    "a = np.array([1,2,3,4]) \n",
    "b = np.array([2,2,3,5])\n",
    "\n",
    "print(a == b)\n",
    "print(a > b)\n",
    "print(a < b)\n",
    "print(a[a == b])"
   ]
  },
  {
   "cell_type": "code",
   "execution_count": 46,
   "id": "04e85698-fed0-4241-9f82-b8424662c7f5",
   "metadata": {},
   "outputs": [],
   "source": [
    "x = np.array([1,2,3])"
   ]
  },
  {
   "cell_type": "code",
   "execution_count": 47,
   "id": "0bc40e26-d008-4b15-8441-bc338128efac",
   "metadata": {},
   "outputs": [
    {
     "name": "stdout",
     "output_type": "stream",
     "text": [
      "[11 12 13]\n"
     ]
    }
   ],
   "source": [
    "print(x + 10)"
   ]
  },
  {
   "cell_type": "code",
   "execution_count": 48,
   "id": "6c353bf6-69c0-45e2-9659-fa95ca19b18f",
   "metadata": {},
   "outputs": [
    {
     "name": "stdout",
     "output_type": "stream",
     "text": [
      "[ 2  6 12]\n"
     ]
    }
   ],
   "source": [
    "print(x * np.array([2,3,4]))"
   ]
  },
  {
   "cell_type": "code",
   "execution_count": 49,
   "id": "367e4a24-3ad2-4341-853e-898b44dd36d2",
   "metadata": {},
   "outputs": [],
   "source": [
    "x2 = x.reshape(3,1)"
   ]
  },
  {
   "cell_type": "code",
   "execution_count": 50,
   "id": "2b773a91-b8d5-43b6-b97f-2e57c00ee5cb",
   "metadata": {},
   "outputs": [
    {
     "name": "stdout",
     "output_type": "stream",
     "text": [
      "[[1]\n",
      " [2]\n",
      " [3]]\n"
     ]
    }
   ],
   "source": [
    "print(x2)"
   ]
  },
  {
   "cell_type": "code",
   "execution_count": 51,
   "id": "ff391913-993b-42bd-b568-d99010e720fc",
   "metadata": {},
   "outputs": [],
   "source": [
    "z = np.array([10,20,30])"
   ]
  },
  {
   "cell_type": "code",
   "execution_count": 52,
   "id": "9ca485de-d5a1-4483-aebd-30a53b958b66",
   "metadata": {},
   "outputs": [
    {
     "name": "stdout",
     "output_type": "stream",
     "text": [
      "[[11 21 31]\n",
      " [12 22 32]\n",
      " [13 23 33]]\n"
     ]
    }
   ],
   "source": [
    "print(x2 + z)"
   ]
  },
  {
   "cell_type": "code",
   "execution_count": null,
   "id": "6e9d14f0-dcca-4401-a7d6-5e257a39b603",
   "metadata": {},
   "outputs": [],
   "source": []
  }
 ],
 "metadata": {
  "kernelspec": {
   "display_name": "Python [conda env:base] *",
   "language": "python",
   "name": "conda-base-py"
  },
  "language_info": {
   "codemirror_mode": {
    "name": "ipython",
    "version": 3
   },
   "file_extension": ".py",
   "mimetype": "text/x-python",
   "name": "python",
   "nbconvert_exporter": "python",
   "pygments_lexer": "ipython3",
   "version": "3.13.5"
  }
 },
 "nbformat": 4,
 "nbformat_minor": 5
}
