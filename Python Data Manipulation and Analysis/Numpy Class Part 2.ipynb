{
 "cells": [
  {
   "cell_type": "code",
   "execution_count": 2,
   "id": "a34d8631-865e-48d5-80b9-825177174d21",
   "metadata": {},
   "outputs": [],
   "source": [
    "import numpy as np"
   ]
  },
  {
   "cell_type": "code",
   "execution_count": 3,
   "id": "918763e2-795b-4cb7-8687-69f4666f765f",
   "metadata": {},
   "outputs": [
    {
     "data": {
      "text/plain": [
       "array([[0., 0., 0.],\n",
       "       [0., 0., 0.]])"
      ]
     },
     "execution_count": 3,
     "metadata": {},
     "output_type": "execute_result"
    }
   ],
   "source": [
    "np.zeros((2,3))"
   ]
  },
  {
   "cell_type": "code",
   "execution_count": 4,
   "id": "0d7bdd8c-a799-4ad2-b34e-395a5b509651",
   "metadata": {},
   "outputs": [
    {
     "data": {
      "text/plain": [
       "array([[1., 1., 1.],\n",
       "       [1., 1., 1.]])"
      ]
     },
     "execution_count": 4,
     "metadata": {},
     "output_type": "execute_result"
    }
   ],
   "source": [
    "np.ones((2,3))"
   ]
  },
  {
   "cell_type": "code",
   "execution_count": 6,
   "id": "29abd884-b9b1-4885-8b40-1d76bd4d1f13",
   "metadata": {},
   "outputs": [
    {
     "data": {
      "text/plain": [
       "array([0, 2, 4, 6, 8])"
      ]
     },
     "execution_count": 6,
     "metadata": {},
     "output_type": "execute_result"
    }
   ],
   "source": [
    "np.arange(0,10,2)"
   ]
  },
  {
   "cell_type": "code",
   "execution_count": 7,
   "id": "558eb42a-664a-4ccd-9051-1acc5513c25f",
   "metadata": {},
   "outputs": [
    {
     "data": {
      "text/plain": [
       "array([0.  , 0.25, 0.5 , 0.75, 1.  ])"
      ]
     },
     "execution_count": 7,
     "metadata": {},
     "output_type": "execute_result"
    }
   ],
   "source": [
    "np.linspace(0,1,5)"
   ]
  },
  {
   "cell_type": "code",
   "execution_count": 8,
   "id": "553502c6-a3e9-490f-b256-2fb4749a8d4a",
   "metadata": {},
   "outputs": [
    {
     "data": {
      "text/plain": [
       "array([[1., 0., 0.],\n",
       "       [0., 1., 0.],\n",
       "       [0., 0., 1.]])"
      ]
     },
     "execution_count": 8,
     "metadata": {},
     "output_type": "execute_result"
    }
   ],
   "source": [
    "np.eye(3)"
   ]
  },
  {
   "cell_type": "code",
   "execution_count": 9,
   "id": "a8de5972-985a-4e0b-9a00-9f40fff04e21",
   "metadata": {},
   "outputs": [
    {
     "data": {
      "text/plain": [
       "array([[0.68412017, 0.36672376, 0.94815143],\n",
       "       [0.50283431, 0.33103704, 0.1998015 ]])"
      ]
     },
     "execution_count": 9,
     "metadata": {},
     "output_type": "execute_result"
    }
   ],
   "source": [
    "np.random.rand(2,3)"
   ]
  },
  {
   "cell_type": "code",
   "execution_count": 11,
   "id": "4fa2bd2f-8ff1-423e-b89e-a3363f85e9af",
   "metadata": {},
   "outputs": [],
   "source": [
    "arr = np.array([[1,2,3],[4,5,6]])"
   ]
  },
  {
   "cell_type": "code",
   "execution_count": 12,
   "id": "b498f85e-26fc-4592-b4f6-1915c347c3ed",
   "metadata": {},
   "outputs": [
    {
     "data": {
      "text/plain": [
       "array([[3, 4, 5],\n",
       "       [6, 7, 8]])"
      ]
     },
     "execution_count": 12,
     "metadata": {},
     "output_type": "execute_result"
    }
   ],
   "source": [
    "arr + 2"
   ]
  },
  {
   "cell_type": "code",
   "execution_count": 13,
   "id": "e27d64c3-e084-41ae-ac60-52cd510b77ef",
   "metadata": {},
   "outputs": [
    {
     "data": {
      "text/plain": [
       "array([[-2, -1,  0],\n",
       "       [ 1,  2,  3]])"
      ]
     },
     "execution_count": 13,
     "metadata": {},
     "output_type": "execute_result"
    }
   ],
   "source": [
    "arr - 3"
   ]
  },
  {
   "cell_type": "code",
   "execution_count": 14,
   "id": "011b920c-cdc9-45bb-9f73-22e9873d74b2",
   "metadata": {},
   "outputs": [
    {
     "data": {
      "text/plain": [
       "array([[ 3,  6,  9],\n",
       "       [12, 15, 18]])"
      ]
     },
     "execution_count": 14,
     "metadata": {},
     "output_type": "execute_result"
    }
   ],
   "source": [
    "arr * 3"
   ]
  },
  {
   "cell_type": "code",
   "execution_count": 15,
   "id": "b381de42-4e01-4a7c-bdde-b349df6ce214",
   "metadata": {},
   "outputs": [
    {
     "data": {
      "text/plain": [
       "array([[0.25, 0.5 , 0.75],\n",
       "       [1.  , 1.25, 1.5 ]])"
      ]
     },
     "execution_count": 15,
     "metadata": {},
     "output_type": "execute_result"
    }
   ],
   "source": [
    "arr / 4"
   ]
  },
  {
   "cell_type": "code",
   "execution_count": 16,
   "id": "eb056476-07dc-4cda-84f1-c05d02e678c2",
   "metadata": {},
   "outputs": [
    {
     "data": {
      "text/plain": [
       "array([[ 1,  4,  9],\n",
       "       [16, 25, 36]])"
      ]
     },
     "execution_count": 16,
     "metadata": {},
     "output_type": "execute_result"
    }
   ],
   "source": [
    "arr ** 2"
   ]
  },
  {
   "cell_type": "code",
   "execution_count": 17,
   "id": "18199d58-7ffc-40fd-9992-953b39c4ca4d",
   "metadata": {},
   "outputs": [],
   "source": [
    "arr = np.array([1,2,3,4,5])"
   ]
  },
  {
   "cell_type": "code",
   "execution_count": 23,
   "id": "72752f35-ba9c-4c7e-bcf4-006cf6bd4591",
   "metadata": {},
   "outputs": [
    {
     "name": "stdout",
     "output_type": "stream",
     "text": [
      "15\n",
      "3.0\n",
      "3.0\n",
      "5\n",
      "1\n",
      "1.4142135623730951\n"
     ]
    }
   ],
   "source": [
    "print(np.sum(arr))\n",
    "print(np.mean(arr))\n",
    "print(np.median(arr))\n",
    "print(np.max(arr))\n",
    "print(np.min(arr))\n",
    "print(np.std(arr))"
   ]
  },
  {
   "cell_type": "code",
   "execution_count": null,
   "id": "da27119c-0ca2-4b2d-898c-77a41289313b",
   "metadata": {},
   "outputs": [],
   "source": []
  }
 ],
 "metadata": {
  "kernelspec": {
   "display_name": "Python [conda env:base] *",
   "language": "python",
   "name": "conda-base-py"
  },
  "language_info": {
   "codemirror_mode": {
    "name": "ipython",
    "version": 3
   },
   "file_extension": ".py",
   "mimetype": "text/x-python",
   "name": "python",
   "nbconvert_exporter": "python",
   "pygments_lexer": "ipython3",
   "version": "3.13.5"
  }
 },
 "nbformat": 4,
 "nbformat_minor": 5
}
