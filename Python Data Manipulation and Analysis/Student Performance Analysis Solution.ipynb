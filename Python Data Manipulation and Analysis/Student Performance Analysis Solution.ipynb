{
 "cells": [
  {
   "cell_type": "code",
   "execution_count": 30,
   "id": "1c9f2bd8-1d03-4334-9acd-ff136b840139",
   "metadata": {},
   "outputs": [],
   "source": [
    "import pandas as pd"
   ]
  },
  {
   "cell_type": "code",
   "execution_count": 31,
   "id": "47caf764-b6df-4771-af09-e0ce3bb7e826",
   "metadata": {},
   "outputs": [],
   "source": [
    "df = pd.read_csv('C:/Users/Ramsha Ahmed/Documents/student_performance.csv')"
   ]
  },
  {
   "cell_type": "code",
   "execution_count": 32,
   "id": "78efc795-11bf-4289-a7c7-7c54a2f9fd12",
   "metadata": {},
   "outputs": [
    {
     "data": {
      "text/plain": [
       "(6, 7)"
      ]
     },
     "execution_count": 32,
     "metadata": {},
     "output_type": "execute_result"
    }
   ],
   "source": [
    "df.shape"
   ]
  },
  {
   "cell_type": "code",
   "execution_count": 33,
   "id": "2e72f111-6f9f-4573-89e3-a4a53c7f4c55",
   "metadata": {},
   "outputs": [
    {
     "data": {
      "text/html": [
       "<div>\n",
       "<style scoped>\n",
       "    .dataframe tbody tr th:only-of-type {\n",
       "        vertical-align: middle;\n",
       "    }\n",
       "\n",
       "    .dataframe tbody tr th {\n",
       "        vertical-align: top;\n",
       "    }\n",
       "\n",
       "    .dataframe thead th {\n",
       "        text-align: right;\n",
       "    }\n",
       "</style>\n",
       "<table border=\"1\" class=\"dataframe\">\n",
       "  <thead>\n",
       "    <tr style=\"text-align: right;\">\n",
       "      <th></th>\n",
       "      <th>Name</th>\n",
       "      <th>Math</th>\n",
       "      <th>Science</th>\n",
       "      <th>English</th>\n",
       "      <th>Gender</th>\n",
       "      <th>Age</th>\n",
       "      <th>Grade</th>\n",
       "    </tr>\n",
       "  </thead>\n",
       "  <tbody>\n",
       "    <tr>\n",
       "      <th>0</th>\n",
       "      <td>Asha</td>\n",
       "      <td>85.0</td>\n",
       "      <td>90.0</td>\n",
       "      <td>NaN</td>\n",
       "      <td>F</td>\n",
       "      <td>19.0</td>\n",
       "      <td>A</td>\n",
       "    </tr>\n",
       "    <tr>\n",
       "      <th>1</th>\n",
       "      <td>John</td>\n",
       "      <td>78.0</td>\n",
       "      <td>82.0</td>\n",
       "      <td>88.0</td>\n",
       "      <td>M</td>\n",
       "      <td>NaN</td>\n",
       "      <td>B</td>\n",
       "    </tr>\n",
       "    <tr>\n",
       "      <th>2</th>\n",
       "      <td>Ravi</td>\n",
       "      <td>NaN</td>\n",
       "      <td>70.0</td>\n",
       "      <td>75.0</td>\n",
       "      <td>M</td>\n",
       "      <td>20.0</td>\n",
       "      <td>C</td>\n",
       "    </tr>\n",
       "    <tr>\n",
       "      <th>3</th>\n",
       "      <td>Priya</td>\n",
       "      <td>92.0</td>\n",
       "      <td>95.0</td>\n",
       "      <td>94.0</td>\n",
       "      <td>F</td>\n",
       "      <td>19.0</td>\n",
       "      <td>A+</td>\n",
       "    </tr>\n",
       "    <tr>\n",
       "      <th>4</th>\n",
       "      <td>NaN</td>\n",
       "      <td>80.0</td>\n",
       "      <td>85.0</td>\n",
       "      <td>79.0</td>\n",
       "      <td>F</td>\n",
       "      <td>21.0</td>\n",
       "      <td>B</td>\n",
       "    </tr>\n",
       "  </tbody>\n",
       "</table>\n",
       "</div>"
      ],
      "text/plain": [
       "    Name  Math  Science  English Gender   Age Grade\n",
       "0   Asha  85.0     90.0      NaN      F  19.0     A\n",
       "1   John  78.0     82.0     88.0      M   NaN     B\n",
       "2   Ravi   NaN     70.0     75.0      M  20.0     C\n",
       "3  Priya  92.0     95.0     94.0      F  19.0    A+\n",
       "4    NaN  80.0     85.0     79.0      F  21.0     B"
      ]
     },
     "execution_count": 33,
     "metadata": {},
     "output_type": "execute_result"
    }
   ],
   "source": [
    "df.head()"
   ]
  },
  {
   "cell_type": "code",
   "execution_count": 34,
   "id": "17f75293-d49a-4641-a9d1-637e49c983bf",
   "metadata": {},
   "outputs": [
    {
     "data": {
      "text/html": [
       "<div>\n",
       "<style scoped>\n",
       "    .dataframe tbody tr th:only-of-type {\n",
       "        vertical-align: middle;\n",
       "    }\n",
       "\n",
       "    .dataframe tbody tr th {\n",
       "        vertical-align: top;\n",
       "    }\n",
       "\n",
       "    .dataframe thead th {\n",
       "        text-align: right;\n",
       "    }\n",
       "</style>\n",
       "<table border=\"1\" class=\"dataframe\">\n",
       "  <thead>\n",
       "    <tr style=\"text-align: right;\">\n",
       "      <th></th>\n",
       "      <th>Name</th>\n",
       "      <th>Math</th>\n",
       "      <th>Science</th>\n",
       "      <th>English</th>\n",
       "      <th>Gender</th>\n",
       "      <th>Age</th>\n",
       "      <th>Grade</th>\n",
       "    </tr>\n",
       "  </thead>\n",
       "  <tbody>\n",
       "    <tr>\n",
       "      <th>4</th>\n",
       "      <td>NaN</td>\n",
       "      <td>80.0</td>\n",
       "      <td>85.0</td>\n",
       "      <td>79.0</td>\n",
       "      <td>F</td>\n",
       "      <td>21.0</td>\n",
       "      <td>B</td>\n",
       "    </tr>\n",
       "    <tr>\n",
       "      <th>5</th>\n",
       "      <td>Sohail</td>\n",
       "      <td>88.0</td>\n",
       "      <td>NaN</td>\n",
       "      <td>84.0</td>\n",
       "      <td>M</td>\n",
       "      <td>20.0</td>\n",
       "      <td>A</td>\n",
       "    </tr>\n",
       "  </tbody>\n",
       "</table>\n",
       "</div>"
      ],
      "text/plain": [
       "     Name  Math  Science  English Gender   Age Grade\n",
       "4     NaN  80.0     85.0     79.0      F  21.0     B\n",
       "5  Sohail  88.0      NaN     84.0      M  20.0     A"
      ]
     },
     "execution_count": 34,
     "metadata": {},
     "output_type": "execute_result"
    }
   ],
   "source": [
    "df.tail(2)"
   ]
  },
  {
   "cell_type": "code",
   "execution_count": 35,
   "id": "999e9548-53e6-45e5-b78e-aea46b42bdab",
   "metadata": {},
   "outputs": [
    {
     "name": "stdout",
     "output_type": "stream",
     "text": [
      "<class 'pandas.core.frame.DataFrame'>\n",
      "RangeIndex: 6 entries, 0 to 5\n",
      "Data columns (total 7 columns):\n",
      " #   Column   Non-Null Count  Dtype  \n",
      "---  ------   --------------  -----  \n",
      " 0   Name     5 non-null      object \n",
      " 1   Math     5 non-null      float64\n",
      " 2   Science  5 non-null      float64\n",
      " 3   English  5 non-null      float64\n",
      " 4   Gender   6 non-null      object \n",
      " 5   Age      5 non-null      float64\n",
      " 6   Grade    6 non-null      object \n",
      "dtypes: float64(4), object(3)\n",
      "memory usage: 468.0+ bytes\n"
     ]
    }
   ],
   "source": [
    "df.info()"
   ]
  },
  {
   "cell_type": "code",
   "execution_count": 36,
   "id": "2103b49a-1dda-4641-acff-99cd13ebe258",
   "metadata": {},
   "outputs": [
    {
     "name": "stdout",
     "output_type": "stream",
     "text": [
      "<bound method DataFrame.sum of     Name   Math  Science  English  Gender    Age  Grade\n",
      "0  False  False    False     True   False  False  False\n",
      "1  False  False    False    False   False   True  False\n",
      "2  False   True    False    False   False  False  False\n",
      "3  False  False    False    False   False  False  False\n",
      "4   True  False    False    False   False  False  False\n",
      "5  False  False     True    False   False  False  False>\n"
     ]
    }
   ],
   "source": [
    "#Count missing values in each column\n",
    "\n",
    "print(df.isna().sum)"
   ]
  },
  {
   "cell_type": "code",
   "execution_count": 37,
   "id": "b5ed2364-47f9-4f5e-b815-f6597a76ee64",
   "metadata": {},
   "outputs": [
    {
     "name": "stdout",
     "output_type": "stream",
     "text": [
      "     Name  Math  Science  English Gender   Age Grade\n",
      "0    Asha  85.0     90.0      NaN      F  19.0     A\n",
      "1    John  78.0     82.0     88.0      M   NaN     B\n",
      "2    Ravi   NaN     70.0     75.0      M  20.0     C\n",
      "3   Priya  92.0     95.0     94.0      F  19.0    A+\n",
      "5  Sohail  88.0      NaN     84.0      M  20.0     A\n"
     ]
    }
   ],
   "source": [
    "#Drop rows where Name is missing\n",
    "\n",
    "df = df.dropna(subset=['Name'])\n",
    "print(df)"
   ]
  },
  {
   "cell_type": "code",
   "execution_count": 38,
   "id": "bbe64990-8655-4afb-8e1b-6c7cb25bfc8a",
   "metadata": {},
   "outputs": [
    {
     "name": "stdout",
     "output_type": "stream",
     "text": [
      "     Name   Math  Science  English Gender   Age Grade\n",
      "0    Asha  85.00     90.0      NaN      F  19.0     A\n",
      "1    John  78.00     82.0     88.0      M   NaN     B\n",
      "2    Ravi  85.75     70.0     75.0      M  20.0     C\n",
      "3   Priya  92.00     95.0     94.0      F  19.0    A+\n",
      "5  Sohail  88.00      NaN     84.0      M  20.0     A\n"
     ]
    }
   ],
   "source": [
    "#Fill missing Math marks with average\n",
    "\n",
    "df['Math'] = df['Math'].fillna(df['Math'].mean())\n",
    "print(df)\n"
   ]
  },
  {
   "cell_type": "code",
   "execution_count": 39,
   "id": "1fd23076-0ffa-4762-b04b-ffd64093a9a1",
   "metadata": {},
   "outputs": [
    {
     "name": "stdout",
     "output_type": "stream",
     "text": [
      "     Name   Math  Science  English Gender   Age Grade\n",
      "0    Asha  85.00     90.0      NaN      F  19.0     A\n",
      "1    John  78.00     82.0     88.0      M  19.0     B\n",
      "2    Ravi  85.75     70.0     75.0      M  20.0     C\n",
      "3   Priya  92.00     95.0     94.0      F  19.0    A+\n",
      "5  Sohail  88.00      NaN     84.0      M  20.0     A\n"
     ]
    }
   ],
   "source": [
    "#Fill missing Age with mode( most common values)\n",
    "\n",
    "df['Age'] = df['Age'].fillna(df['Age'].mode()[0])\n",
    "print(df)"
   ]
  },
  {
   "cell_type": "code",
   "execution_count": 40,
   "id": "74e52acd-890d-4ace-b593-e5f98fbf6eaf",
   "metadata": {},
   "outputs": [
    {
     "name": "stdout",
     "output_type": "stream",
     "text": [
      "     Name  Mathematics  Science  English Gender   Age Grade\n",
      "0    Asha        85.00     90.0      NaN      F  19.0     A\n",
      "1    John        78.00     82.0     88.0      M  19.0     B\n",
      "2    Ravi        85.75     70.0     75.0      M  20.0     C\n",
      "3   Priya        92.00     95.0     94.0      F  19.0    A+\n",
      "5  Sohail        88.00      NaN     84.0      M  20.0     A\n"
     ]
    }
   ],
   "source": [
    "#Rename Math --> Mathematics\n",
    "\n",
    "df = df.rename(columns = {'Math': 'Mathematics'})\n",
    "print(df)"
   ]
  },
  {
   "cell_type": "code",
   "execution_count": 41,
   "id": "f5068d36-49ab-4178-8e07-e770fd6aeed6",
   "metadata": {},
   "outputs": [
    {
     "name": "stdout",
     "output_type": "stream",
     "text": [
      "     name  mathematics  science  english gender   age grade\n",
      "0    Asha        85.00     90.0      NaN      F  19.0     A\n",
      "1    John        78.00     82.0     88.0      M  19.0     B\n",
      "2    Ravi        85.75     70.0     75.0      M  20.0     C\n",
      "3   Priya        92.00     95.0     94.0      F  19.0    A+\n",
      "5  Sohail        88.00      NaN     84.0      M  20.0     A\n"
     ]
    }
   ],
   "source": [
    "#Make all columns names lowercase\n",
    "\n",
    "df.columns = df.columns.str.lower()\n",
    "print(df)"
   ]
  },
  {
   "cell_type": "code",
   "execution_count": 42,
   "id": "3e08a858-e031-41fa-bfd2-837040d62ddc",
   "metadata": {},
   "outputs": [
    {
     "name": "stdout",
     "output_type": "stream",
     "text": [
      "     name  mathematics  science  english gender  age grade\n",
      "0    Asha        85.00     90.0      NaN      F   19     A\n",
      "1    John        78.00     82.0     88.0      M   19     B\n",
      "2    Ravi        85.75     70.0     75.0      M   20     C\n",
      "3   Priya        92.00     95.0     94.0      F   19    A+\n",
      "5  Sohail        88.00      NaN     84.0      M   20     A\n"
     ]
    }
   ],
   "source": [
    "# Convert Age to integer\n",
    "\n",
    "df['age'] = df['age'].astype(int)\n",
    "print(df)"
   ]
  },
  {
   "cell_type": "code",
   "execution_count": 43,
   "id": "98bd4ccf-d522-4dea-bc74-57740f9df5a2",
   "metadata": {},
   "outputs": [
    {
     "name": "stdout",
     "output_type": "stream",
     "text": [
      "     name  mathematics  science  english gender  age grade\n",
      "0    Asha        85.00     90.0      NaN      F   19     A\n",
      "1    John        78.00     82.0     88.0      M   19     B\n",
      "2    Ravi        85.75     70.0     75.0      M   20     C\n",
      "3   Priya        92.00     95.0     94.0      F   19    A+\n",
      "5  Sohail        88.00      NaN     84.0      M   20     A\n"
     ]
    }
   ],
   "source": [
    "# Ensure Grade os string\n",
    "\n",
    "df['grade'] = df['grade'].astype(str)\n",
    "print(df)"
   ]
  },
  {
   "cell_type": "code",
   "execution_count": 44,
   "id": "1210fe1f-8492-4ad7-860c-5eead683c69e",
   "metadata": {},
   "outputs": [
    {
     "data": {
      "text/plain": [
       "0    False\n",
       "1    False\n",
       "2    False\n",
       "3    False\n",
       "5    False\n",
       "dtype: bool"
      ]
     },
     "execution_count": 44,
     "metadata": {},
     "output_type": "execute_result"
    }
   ],
   "source": [
    "#Check for duplicates\n",
    "\n",
    "df.duplicated()"
   ]
  },
  {
   "cell_type": "code",
   "execution_count": 45,
   "id": "ffad3119-34f6-4697-9d91-93f9f05d428d",
   "metadata": {},
   "outputs": [
    {
     "name": "stdout",
     "output_type": "stream",
     "text": [
      "     name  mathematics  science  english gender  age grade\n",
      "0    Asha        85.00     90.0      NaN      F   19     A\n",
      "1    John        78.00     82.0     88.0      M   19     B\n",
      "2    Ravi        85.75     70.0     75.0      M   20     C\n",
      "3   Priya        92.00     95.0     94.0      F   19    A+\n",
      "5  Sohail        88.00      NaN     84.0      M   20     A\n"
     ]
    }
   ],
   "source": [
    "df = df.drop_duplicates()\n",
    "print(df)"
   ]
  },
  {
   "cell_type": "code",
   "execution_count": 46,
   "id": "4ae218c7-c603-4d4b-9092-4529e3bfd41f",
   "metadata": {},
   "outputs": [
    {
     "name": "stdout",
     "output_type": "stream",
     "text": [
      "     name  mathematics  science  english gender  age grade\n",
      "0    Asha        85.00     90.0    85.25      F   19     A\n",
      "1    John        78.00     82.0    88.00      M   19     B\n",
      "2    Ravi        85.75     70.0    75.00      M   20     C\n",
      "3   Priya        92.00     95.0    94.00      F   19    A+\n",
      "5  Sohail        88.00      NaN    84.00      M   20     A\n"
     ]
    }
   ],
   "source": [
    "df['english'] = df['english'].fillna(df['english'].mean())\n",
    "print(df)"
   ]
  },
  {
   "cell_type": "code",
   "execution_count": 47,
   "id": "5be752a8-40cb-40a4-a24f-750149c1284a",
   "metadata": {},
   "outputs": [
    {
     "name": "stdout",
     "output_type": "stream",
     "text": [
      "     name  mathematics  science  english gender  age grade\n",
      "0    Asha        85.00    90.00    85.25      F   19     A\n",
      "1    John        78.00    82.00    88.00      M   19     B\n",
      "2    Ravi        85.75    70.00    75.00      M   20     C\n",
      "3   Priya        92.00    95.00    94.00      F   19    A+\n",
      "5  Sohail        88.00    84.25    84.00      M   20     A\n"
     ]
    }
   ],
   "source": [
    "df['science'] = df['science'].fillna(df['science'].mean())\n",
    "print(df)"
   ]
  },
  {
   "cell_type": "code",
   "execution_count": 48,
   "id": "afc18f3b-53fc-4548-a288-3660720a2336",
   "metadata": {},
   "outputs": [
    {
     "name": "stdout",
     "output_type": "stream",
     "text": [
      "     name  mathematics  science  english gender  age grade  total_marks\n",
      "0    Asha        85.00    90.00    85.25      F   19     A       260.25\n",
      "1    John        78.00    82.00    88.00      M   19     B       248.00\n",
      "2    Ravi        85.75    70.00    75.00      M   20     C       230.75\n",
      "3   Priya        92.00    95.00    94.00      F   19    A+       281.00\n",
      "5  Sohail        88.00    84.25    84.00      M   20     A       256.25\n"
     ]
    }
   ],
   "source": [
    "df['total_marks'] = df['mathematics'] + df['science'] + df['english']\n",
    "print(df)"
   ]
  },
  {
   "cell_type": "code",
   "execution_count": 49,
   "id": "b2a3cd40-29a4-4444-91c6-24c460ef38d6",
   "metadata": {},
   "outputs": [
    {
     "name": "stdout",
     "output_type": "stream",
     "text": [
      "     name  mathematics  science  english gender  age grade  total_marks result\n",
      "0    Asha        85.00    90.00    85.25      F   19     A       260.25   Pass\n",
      "1    John        78.00    82.00    88.00      M   19     B       248.00   Pass\n",
      "2    Ravi        85.75    70.00    75.00      M   20     C       230.75   Pass\n",
      "3   Priya        92.00    95.00    94.00      F   19    A+       281.00   Pass\n",
      "5  Sohail        88.00    84.25    84.00      M   20     A       256.25   Pass\n"
     ]
    }
   ],
   "source": [
    "df['result'] = df['total_marks'].apply(lambda x: 'Pass' if x >= 180 else 'Fail')\n",
    "print(df)"
   ]
  },
  {
   "cell_type": "code",
   "execution_count": 50,
   "id": "29258582-1559-4d26-8a86-0c608526595b",
   "metadata": {},
   "outputs": [
    {
     "name": "stdout",
     "output_type": "stream",
     "text": [
      "     name  mathematics  science  english gender  age grade  total_marks result\n",
      "0    Asha        85.00    90.00    85.25      F   19     A       260.25   Pass\n",
      "1    John        78.00    82.00    88.00      M   19     B       248.00   Pass\n",
      "2    Ravi        85.75    70.00    75.00      M   20     C       230.75   Pass\n",
      "3   Priya        92.00    95.00    94.00      F   19    A+       281.00   Pass\n",
      "5  Sohail        88.00    84.25    84.00      M   20     A       256.25   Pass\n"
     ]
    }
   ],
   "source": [
    "#Drop rows where students scored less than 50 in science\n",
    "\n",
    "df = df[df['science'] >= 50]\n",
    "print(df)"
   ]
  },
  {
   "cell_type": "code",
   "execution_count": 54,
   "id": "ca9f42c1-c592-4ca7-a74f-e80bc77c257b",
   "metadata": {},
   "outputs": [
    {
     "name": "stdout",
     "output_type": "stream",
     "text": [
      "     name  mathematics  science  english gender  age grade  total_marks result\n",
      "3   Priya        92.00    95.00    94.00      F   19    A+       281.00   Pass\n",
      "1    John        78.00    82.00    88.00      M   19     B       248.00   Pass\n",
      "0    Asha        85.00    90.00    85.25      F   19     A       260.25   Pass\n",
      "5  Sohail        88.00    84.25    84.00      M   20     A       256.25   Pass\n",
      "2    Ravi        85.75    70.00    75.00      M   20     C       230.75   Pass\n"
     ]
    }
   ],
   "source": [
    "#Sort English by decending\n",
    "\n",
    "df_sorted = df.sort_values(by = 'english', ascending = False)\n",
    "print(df_sorted)"
   ]
  },
  {
   "cell_type": "code",
   "execution_count": 55,
   "id": "0abf28b9-66a5-46b2-afe8-b18f84272a6c",
   "metadata": {},
   "outputs": [
    {
     "name": "stdout",
     "output_type": "stream",
     "text": [
      "        mathematics  science    english\n",
      "gender                                 \n",
      "F         88.500000    92.50  89.625000\n",
      "M         83.916667    78.75  82.333333\n"
     ]
    }
   ],
   "source": [
    "#Average marks by gender\n",
    "\n",
    "print(df.groupby('gender')[['mathematics','science','english']].mean())"
   ]
  },
  {
   "cell_type": "code",
   "execution_count": 56,
   "id": "72083748-1ef1-45b5-85ac-5726b41d1646",
   "metadata": {},
   "outputs": [
    {
     "name": "stdout",
     "output_type": "stream",
     "text": [
      "grade\n",
      "A     2\n",
      "B     1\n",
      "C     1\n",
      "A+    1\n",
      "Name: count, dtype: int64\n"
     ]
    }
   ],
   "source": [
    "# Count studnets in each Grade\n",
    "\n",
    "print(df['grade'].value_counts())"
   ]
  },
  {
   "cell_type": "code",
   "execution_count": 59,
   "id": "707d7b66-4099-4c42-aced-494346bb8e56",
   "metadata": {},
   "outputs": [
    {
     "name": "stdout",
     "output_type": "stream",
     "text": [
      "     name  mathematics  science  english gender  age grade  total_marks  \\\n",
      "0    Asha        85.00    90.00    85.25      F   19     A       260.25   \n",
      "1    John        78.00    82.00    88.00      M   19     B       248.00   \n",
      "2    Ravi        85.75    70.00    75.00      M   20     C       230.75   \n",
      "3   Priya        92.00    95.00    94.00      F   19    A+       281.00   \n",
      "5  Sohail        88.00    84.25    84.00      M   20     A       256.25   \n",
      "\n",
      "  result  math_percent  \n",
      "0   Pass         85.00  \n",
      "1   Pass         78.00  \n",
      "2   Pass         85.75  \n",
      "3   Pass         92.00  \n",
      "5   Pass         88.00  \n"
     ]
    }
   ],
   "source": [
    "# Math percentage (out of 100)\n",
    "\n",
    "df['math_percent'] = df['mathematics']/100 * 100\n",
    "\n",
    "print(df)"
   ]
  },
  {
   "cell_type": "code",
   "execution_count": 69,
   "id": "720cc7f0-773b-4b6b-a6f2-2086f87f2180",
   "metadata": {},
   "outputs": [
    {
     "name": "stdout",
     "output_type": "stream",
     "text": [
      "     name  mathematics  science  english gender  age grade  total_marks  \\\n",
      "0    ASHA        85.00    90.00    85.25      F   19     a       260.25   \n",
      "1    JOHN        78.00    82.00    88.00      M   19     b       248.00   \n",
      "2    RAVI        85.75    70.00    75.00      M   20     c       230.75   \n",
      "3   PRIYA        92.00    95.00    94.00      F   19    a+       281.00   \n",
      "5  SOHAIL        88.00    84.25    84.00      M   20     a       256.25   \n",
      "\n",
      "  result  math_percent  age_in_months first_letter  \n",
      "0   Pass         85.00            228            A  \n",
      "1   Pass         78.00            228            J  \n",
      "2   Pass         85.75            240            R  \n",
      "3   Pass         92.00            228            P  \n",
      "5   Pass         88.00            240            S  \n"
     ]
    }
   ],
   "source": [
    "#Age in months\n",
    "\n",
    "df['age_in_months'] = df['age'] * 12\n",
    "print(df)"
   ]
  },
  {
   "cell_type": "code",
   "execution_count": 64,
   "id": "2446207d-619b-471c-8275-60c89caa44aa",
   "metadata": {},
   "outputs": [
    {
     "name": "stdout",
     "output_type": "stream",
     "text": [
      "     name  mathematics  science  english gender  age grade  total_marks  \\\n",
      "0    ASHA        85.00    90.00    85.25      F   19     A       260.25   \n",
      "1    JOHN        78.00    82.00    88.00      M   19     B       248.00   \n",
      "2    RAVI        85.75    70.00    75.00      M   20     C       230.75   \n",
      "3   PRIYA        92.00    95.00    94.00      F   19    A+       281.00   \n",
      "5  SOHAIL        88.00    84.25    84.00      M   20     A       256.25   \n",
      "\n",
      "  result  math_percent  age_in_months  \n",
      "0   Pass         85.00            228  \n",
      "1   Pass         78.00            228  \n",
      "2   Pass         85.75            240  \n",
      "3   Pass         92.00            228  \n",
      "5   Pass         88.00            240  \n"
     ]
    }
   ],
   "source": [
    "# Convert names to uppercase\n",
    "\n",
    "df['name'] = df['name'].str.upper()\n",
    "print(df)"
   ]
  },
  {
   "cell_type": "code",
   "execution_count": 66,
   "id": "e134c93d-1ed7-41b3-ae67-a46f3db11a5a",
   "metadata": {},
   "outputs": [
    {
     "name": "stdout",
     "output_type": "stream",
     "text": [
      "0    A\n",
      "1    J\n",
      "2    R\n",
      "3    P\n",
      "5    S\n",
      "Name: first_letter, dtype: object\n"
     ]
    }
   ],
   "source": [
    "df['first_letter'] = df['name'].str[0]\n",
    "print(df['first_letter'])"
   ]
  },
  {
   "cell_type": "code",
   "execution_count": 68,
   "id": "d94dd11e-d25c-4e28-bce8-f6b5687b17f1",
   "metadata": {},
   "outputs": [
    {
     "name": "stdout",
     "output_type": "stream",
     "text": [
      "     name  mathematics  science  english gender  age grade  total_marks  \\\n",
      "0    ASHA        85.00    90.00    85.25      F   19     a       260.25   \n",
      "1    JOHN        78.00    82.00    88.00      M   19     b       248.00   \n",
      "2    RAVI        85.75    70.00    75.00      M   20     c       230.75   \n",
      "3   PRIYA        92.00    95.00    94.00      F   19    a+       281.00   \n",
      "5  SOHAIL        88.00    84.25    84.00      M   20     a       256.25   \n",
      "\n",
      "  result  math_percent  age_in_months first_letter  \n",
      "0   Pass         85.00            228            A  \n",
      "1   Pass         78.00            228            J  \n",
      "2   Pass         85.75            240            R  \n",
      "3   Pass         92.00            228            P  \n",
      "5   Pass         88.00            240            S  \n"
     ]
    }
   ],
   "source": [
    "#Standardize grade to lowercase\n",
    "\n",
    "df['grade'] = df['grade'].str.lower()\n",
    "print(df)"
   ]
  },
  {
   "cell_type": "code",
   "execution_count": null,
   "id": "45863ad3-b4da-4366-976e-930fab35000b",
   "metadata": {},
   "outputs": [],
   "source": []
  }
 ],
 "metadata": {
  "kernelspec": {
   "display_name": "Python [conda env:base] *",
   "language": "python",
   "name": "conda-base-py"
  },
  "language_info": {
   "codemirror_mode": {
    "name": "ipython",
    "version": 3
   },
   "file_extension": ".py",
   "mimetype": "text/x-python",
   "name": "python",
   "nbconvert_exporter": "python",
   "pygments_lexer": "ipython3",
   "version": "3.13.5"
  }
 },
 "nbformat": 4,
 "nbformat_minor": 5
}
