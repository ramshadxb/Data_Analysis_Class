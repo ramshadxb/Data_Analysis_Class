{
 "cells": [
  {
   "cell_type": "code",
   "execution_count": 4,
   "id": "382404c2-f0c7-4cb7-9f1c-004153cf399a",
   "metadata": {},
   "outputs": [],
   "source": [
    "import pandas as pd\n",
    "from scipy.stats import chi2_contingency"
   ]
  },
  {
   "cell_type": "code",
   "execution_count": 5,
   "id": "cf83257c-ee65-4824-9db2-029a5d2332ac",
   "metadata": {},
   "outputs": [],
   "source": [
    "#Observed Data\n",
    "data = [[30, 25, 20],\n",
    "       [20 ,35 ,20]]"
   ]
  },
  {
   "cell_type": "code",
   "execution_count": 8,
   "id": "97c05bbd-97c7-4d74-867e-ecc94b441282",
   "metadata": {},
   "outputs": [
    {
     "name": "stdout",
     "output_type": "stream",
     "text": [
      "       Car  Bus  Bicycle\n",
      "Sunny   30   25       20\n",
      "Rainy   20   35       20\n"
     ]
    }
   ],
   "source": [
    "#Create Dataframe\n",
    "df = pd.DataFrame(data, columns = [\"Car\",\"Bus\",\"Bicycle\"], index = [\"Sunny\",\"Rainy\"])\n",
    "print(df)"
   ]
  },
  {
   "cell_type": "code",
   "execution_count": 9,
   "id": "b27dd7a3-b380-4432-baa5-4f649a52f582",
   "metadata": {},
   "outputs": [],
   "source": [
    "# Perform Chi-Square Test\n",
    "\n",
    "chi2, p, dof, expected = chi2_contingency(df)"
   ]
  },
  {
   "cell_type": "code",
   "execution_count": 11,
   "id": "c60b601a-0ba2-407e-ae7c-045c4e050adc",
   "metadata": {},
   "outputs": [
    {
     "name": "stdout",
     "output_type": "stream",
     "text": [
      "Chi-Square Statistics: 3.666666666666667\n",
      "Degree of Freedom: 2\n",
      "P-Value: 0.15987974607969388\n",
      "\n",
      "Expected Frequencies:\n",
      "         Car   Bus  Bicycle\n",
      "Sunny  25.0  30.0     20.0\n",
      "Rainy  25.0  30.0     20.0\n"
     ]
    }
   ],
   "source": [
    "print(\"Chi-Square Statistics:\", chi2)\n",
    "print(\"Degree of Freedom:\", dof)\n",
    "print(\"P-Value:\",p)\n",
    "print(\"\\nExpected Frequencies:\\n\", pd.DataFrame(expected, columns=df.columns, index=df.index))\n",
    "\n"
   ]
  },
  {
   "cell_type": "code",
   "execution_count": 12,
   "id": "38ebca8d-61eb-4242-ae78-6f60b7b7bfd9",
   "metadata": {},
   "outputs": [
    {
     "name": "stdout",
     "output_type": "stream",
     "text": [
      "\n",
      "Conclusion: Fail to Reject H0 - Weather and transport mode are independent.\n"
     ]
    }
   ],
   "source": [
    "#Interpretation\n",
    "\n",
    "if p < 0.05:\n",
    "    print(\"\\nConclusion: Reject H0 - Weather and transport mode are NOT independent.\")\n",
    "else:\n",
    "    print(\"\\nConclusion: Fail to Reject H0 - Weather and transport mode are independent.\")"
   ]
  },
  {
   "cell_type": "code",
   "execution_count": null,
   "id": "af73620b-6dd1-4758-844f-85177ae99fa7",
   "metadata": {},
   "outputs": [],
   "source": []
  }
 ],
 "metadata": {
  "kernelspec": {
   "display_name": "Python [conda env:base] *",
   "language": "python",
   "name": "conda-base-py"
  },
  "language_info": {
   "codemirror_mode": {
    "name": "ipython",
    "version": 3
   },
   "file_extension": ".py",
   "mimetype": "text/x-python",
   "name": "python",
   "nbconvert_exporter": "python",
   "pygments_lexer": "ipython3",
   "version": "3.13.5"
  }
 },
 "nbformat": 4,
 "nbformat_minor": 5
}
