{
 "cells": [
  {
   "cell_type": "code",
   "execution_count": 1,
   "id": "05df6d66-4ed2-46c1-ab6e-785525625666",
   "metadata": {},
   "outputs": [],
   "source": [
    "#One Sample T-Test\n",
    "import numpy as np\n",
    "from scipy import stats"
   ]
  },
  {
   "cell_type": "code",
   "execution_count": 2,
   "id": "d58cff4a-e149-4263-b136-bb45a351b710",
   "metadata": {},
   "outputs": [],
   "source": [
    "lifetimes = np.array([980,1005,995,1020, 1000, 990, 1010, 985])"
   ]
  },
  {
   "cell_type": "code",
   "execution_count": 3,
   "id": "5a0c9979-2396-49b6-9cb6-4acfbccd2c04",
   "metadata": {},
   "outputs": [],
   "source": [
    "mu_0 = 1000"
   ]
  },
  {
   "cell_type": "code",
   "execution_count": 7,
   "id": "8f5e8268-1b6a-478c-aed7-e439bedf2668",
   "metadata": {},
   "outputs": [],
   "source": [
    "#Compute sample statistics\n",
    "sample_mean = np.mean(lifetimes)\n",
    "sample_std = np.std(lifetimes,ddof=1)\n",
    "n = len(lifetimes)"
   ]
  },
  {
   "cell_type": "code",
   "execution_count": 9,
   "id": "9a289999-7a71-4066-94f2-35b47bfb8937",
   "metadata": {},
   "outputs": [],
   "source": [
    "#Compute t-statistics manually\n",
    "\n",
    "t_statistic = (sample_mean - mu_0) / (sample_std / np.sqrt(n))"
   ]
  },
  {
   "cell_type": "code",
   "execution_count": 10,
   "id": "dc508cf9-e122-45f0-bb56-022c10af3578",
   "metadata": {},
   "outputs": [],
   "source": [
    "#Degree of Freedom\n",
    "df = n -1"
   ]
  },
  {
   "cell_type": "code",
   "execution_count": 11,
   "id": "0baa6344-0b0e-4afd-91d1-7a7ced563fea",
   "metadata": {},
   "outputs": [],
   "source": [
    "#t-critical value\n",
    "alpha = 0.05\n",
    "t_critical = stats.t.ppf(1-alpha/2,df)"
   ]
  },
  {
   "cell_type": "code",
   "execution_count": 15,
   "id": "a871d404-d44f-42dd-83b1-52933c348dd7",
   "metadata": {},
   "outputs": [],
   "source": [
    "#p-value\n",
    "p_value = 2 * (1 - stats.t.cdf(abs(t_statistic), df))"
   ]
  },
  {
   "cell_type": "code",
   "execution_count": 16,
   "id": "4408863e-5cf8-4755-b21f-ca7e53b99458",
   "metadata": {},
   "outputs": [
    {
     "name": "stdout",
     "output_type": "stream",
     "text": [
      "Result: Fail to reject the null hypothesis(no sign diff).\n"
     ]
    }
   ],
   "source": [
    "#Decision\n",
    "if abs(t_statistic) > t_critical:\n",
    "    print(\"Result: Reject the null hypotheisis(sign diff).\")\n",
    "else:\n",
    "    print(\"Result: Fail to reject the null hypothesis(no sign diff).\")"
   ]
  },
  {
   "cell_type": "code",
   "execution_count": null,
   "id": "1c39714e-f323-47da-b55f-1d4c3b70496b",
   "metadata": {},
   "outputs": [],
   "source": []
  }
 ],
 "metadata": {
  "kernelspec": {
   "display_name": "Python [conda env:base] *",
   "language": "python",
   "name": "conda-base-py"
  },
  "language_info": {
   "codemirror_mode": {
    "name": "ipython",
    "version": 3
   },
   "file_extension": ".py",
   "mimetype": "text/x-python",
   "name": "python",
   "nbconvert_exporter": "python",
   "pygments_lexer": "ipython3",
   "version": "3.13.5"
  }
 },
 "nbformat": 4,
 "nbformat_minor": 5
}
