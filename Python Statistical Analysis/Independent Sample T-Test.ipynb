{
 "cells": [
  {
   "cell_type": "code",
   "execution_count": 1,
   "id": "ad654507-b84a-44f4-b08e-f00c041e6bfd",
   "metadata": {},
   "outputs": [],
   "source": [
    "# Independent Sample T-Test \n",
    "from scipy import stats"
   ]
  },
  {
   "cell_type": "code",
   "execution_count": 2,
   "id": "a19f5a30-d2ef-43e1-a604-31cadb8dcbcd",
   "metadata": {},
   "outputs": [],
   "source": [
    "#Data for two independent groups\n",
    "\n",
    "group_A = [65,70,68,72,66] #Traditional Method\n",
    "group_B = [70,74,69,75,73] # New Method"
   ]
  },
  {
   "cell_type": "code",
   "execution_count": 5,
   "id": "915618bd-6554-47be-a3d9-2ac00a434e5a",
   "metadata": {},
   "outputs": [],
   "source": [
    "# Perform the t-test\n",
    "t_stat, p_value = stats.ttest_ind(group_A, group_B, equal_var = True)"
   ]
  },
  {
   "cell_type": "code",
   "execution_count": 6,
   "id": "9e11e1b3-45f3-4207-8758-741affcdba05",
   "metadata": {},
   "outputs": [
    {
     "name": "stdout",
     "output_type": "stream",
     "text": [
      "Independent Sample t-test Results\n",
      "t-statistic = -2.317\n",
      "p-value =  0.0491\n"
     ]
    }
   ],
   "source": [
    "#Print Results\n",
    "\n",
    "print(\"Independent Sample t-test Results\")\n",
    "print(f\"t-statistic = {t_stat: .3f}\")\n",
    "print(f\"p-value = {p_value: .4f}\")"
   ]
  },
  {
   "cell_type": "code",
   "execution_count": 8,
   "id": "76212f6a-dc24-4790-bd16-5fea09c08d0a",
   "metadata": {},
   "outputs": [
    {
     "name": "stdout",
     "output_type": "stream",
     "text": [
      "Conclusion: reject the null hypothesis(sign diff between two groups).\n"
     ]
    }
   ],
   "source": [
    "#Interpretation at a = 0.05\n",
    "\n",
    "alpha = 0.05\n",
    "if p_value < alpha:\n",
    "    print(\"Conclusion: reject the null hypothesis(sign diff between two groups).\")\n",
    "else:\n",
    "    print(\"Conclusion: fail to reject the null hypothesis(no sign diff between two groups).\")"
   ]
  },
  {
   "cell_type": "code",
   "execution_count": null,
   "id": "19d4f5c0-137b-43fd-90f8-827792e2a09c",
   "metadata": {},
   "outputs": [],
   "source": []
  }
 ],
 "metadata": {
  "kernelspec": {
   "display_name": "Python [conda env:base] *",
   "language": "python",
   "name": "conda-base-py"
  },
  "language_info": {
   "codemirror_mode": {
    "name": "ipython",
    "version": 3
   },
   "file_extension": ".py",
   "mimetype": "text/x-python",
   "name": "python",
   "nbconvert_exporter": "python",
   "pygments_lexer": "ipython3",
   "version": "3.13.5"
  }
 },
 "nbformat": 4,
 "nbformat_minor": 5
}
