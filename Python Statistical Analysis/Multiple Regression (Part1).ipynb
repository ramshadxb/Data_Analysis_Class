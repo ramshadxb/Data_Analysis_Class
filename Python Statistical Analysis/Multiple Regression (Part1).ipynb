{
 "cells": [
  {
   "cell_type": "code",
   "execution_count": 3,
   "id": "aff8311c-d9a8-44bf-a1a7-548ba2385b69",
   "metadata": {},
   "outputs": [],
   "source": [
    "# Multiple Linear Regression Example\n",
    "\n",
    "import pandas as pd\n",
    "from sklearn.linear_model import LinearRegression\n",
    "\n",
    "# Data\n",
    "data = {\n",
    "    'Size': [1500, 1800, 2400, 3000, 3500],\n",
    "    'Bedrooms': [3, 4, 3, 5, 4],\n",
    "    'Price': [250000, 300000, 350000, 400000, 450000]\n",
    "}\n",
    "df = pd.DataFrame(data)"
   ]
  },
  {
   "cell_type": "code",
   "execution_count": 4,
   "id": "e8ddb32a-b6f7-4ed1-9b08-9d5f6304da25",
   "metadata": {},
   "outputs": [
    {
     "name": "stdout",
     "output_type": "stream",
     "text": [
      "Intercept (β₀): 113471.01174687379\n",
      "Coefficients (β₁, β₂): [  94.16445623 1780.97764305]\n",
      "Predicted Price: 307142.85714285716\n"
     ]
    },
    {
     "name": "stderr",
     "output_type": "stream",
     "text": [
      "D:\\Programs\\Anaconda3\\Lib\\site-packages\\sklearn\\utils\\validation.py:2739: UserWarning: X does not have valid feature names, but LinearRegression was fitted with feature names\n",
      "  warnings.warn(\n"
     ]
    }
   ],
   "source": [
    "# Independent & Dependent variables\n",
    "X = df[['Size', 'Bedrooms']]\n",
    "Y = df['Price']\n",
    "\n",
    "# Model\n",
    "model = LinearRegression()\n",
    "model.fit(X, Y)\n",
    "\n",
    "# Output\n",
    "print(\"Intercept (β₀):\", model.intercept_)\n",
    "print(\"Coefficients (β₁, β₂):\", model.coef_)\n",
    "\n",
    "# Prediction for a new house\n",
    "new_house = [[2000, 3]]\n",
    "predicted_price = model.predict(new_house)\n",
    "print(\"Predicted Price:\", predicted_price[0])\n"
   ]
  },
  {
   "cell_type": "code",
   "execution_count": null,
   "id": "e5e0e937-bcdf-4030-9b2f-2078962ffc2d",
   "metadata": {},
   "outputs": [],
   "source": []
  }
 ],
 "metadata": {
  "kernelspec": {
   "display_name": "Python [conda env:base] *",
   "language": "python",
   "name": "conda-base-py"
  },
  "language_info": {
   "codemirror_mode": {
    "name": "ipython",
    "version": 3
   },
   "file_extension": ".py",
   "mimetype": "text/x-python",
   "name": "python",
   "nbconvert_exporter": "python",
   "pygments_lexer": "ipython3",
   "version": "3.13.5"
  }
 },
 "nbformat": 4,
 "nbformat_minor": 5
}
