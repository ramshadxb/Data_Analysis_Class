{
 "cells": [
  {
   "cell_type": "code",
   "execution_count": 4,
   "id": "c247adc4-668c-40eb-adf3-555db8bf1c3d",
   "metadata": {},
   "outputs": [],
   "source": [
    "#Chi - Square Goodness of fit Test for weather\n",
    "import scipy.stats as stats"
   ]
  },
  {
   "cell_type": "code",
   "execution_count": 6,
   "id": "24305385-c2b2-4e40-bc7d-3421a7b165bc",
   "metadata": {},
   "outputs": [],
   "source": [
    "#Observed frequencies\n",
    "observed = [80,50,70,100]\n",
    "#Expected frequencies(equal distribution)\n",
    "expected = [75,75,75,75]"
   ]
  },
  {
   "cell_type": "code",
   "execution_count": 7,
   "id": "b30c61ec-fb81-4c7b-b831-66c26a955569",
   "metadata": {},
   "outputs": [],
   "source": [
    "#Chi Square Goodness of Fit test\n",
    "\n",
    "chi2_stat, p_value = stats.chisquare(f_obs=observed, f_exp=expected)"
   ]
  },
  {
   "cell_type": "code",
   "execution_count": 8,
   "id": "5510cbf8-b8d1-4bb4-adb3-6f19d772daf8",
   "metadata": {},
   "outputs": [
    {
     "name": "stdout",
     "output_type": "stream",
     "text": [
      "Chi-Square Statistic: 17.333\n",
      "p-value: 0.0006\n"
     ]
    }
   ],
   "source": [
    "print(\"Chi-Square Statistic:\",round(chi2_stat, 3))\n",
    "print(\"p-value:\",round(p_value, 4))"
   ]
  },
  {
   "cell_type": "code",
   "execution_count": 9,
   "id": "fd94fdc4-5eb0-4a67-8820-66946eae69cb",
   "metadata": {},
   "outputs": [
    {
     "name": "stdout",
     "output_type": "stream",
     "text": [
      "Reject H0 -> Clear-Sky days are not equally distributed.\n"
     ]
    }
   ],
   "source": [
    "alpha = 0.05\n",
    "\n",
    "if p_value < alpha:\n",
    "    print(\"Reject H0 -> Clear-Sky days are not equally distributed.\")\n",
    "else:\n",
    "    print(\"Fail to reject H0 -> Clear Sky days are equally distributed\")"
   ]
  },
  {
   "cell_type": "code",
   "execution_count": null,
   "id": "0ec9c00a-2463-4f46-9a08-d9b0902fc74c",
   "metadata": {},
   "outputs": [],
   "source": []
  }
 ],
 "metadata": {
  "kernelspec": {
   "display_name": "Python [conda env:base] *",
   "language": "python",
   "name": "conda-base-py"
  },
  "language_info": {
   "codemirror_mode": {
    "name": "ipython",
    "version": 3
   },
   "file_extension": ".py",
   "mimetype": "text/x-python",
   "name": "python",
   "nbconvert_exporter": "python",
   "pygments_lexer": "ipython3",
   "version": "3.13.5"
  }
 },
 "nbformat": 4,
 "nbformat_minor": 5
}
