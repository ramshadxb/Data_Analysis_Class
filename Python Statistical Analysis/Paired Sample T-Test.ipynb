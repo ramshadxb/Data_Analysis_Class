{
 "cells": [
  {
   "cell_type": "code",
   "execution_count": 1,
   "id": "7b321619-a66b-4892-b0ba-b34801597b3a",
   "metadata": {},
   "outputs": [],
   "source": [
    "#Paired Sample t-test for Employee Productivity (Before vs After Training)\n",
    "import numpy as np\n",
    "from scipy.stats import ttest_rel"
   ]
  },
  {
   "cell_type": "code",
   "execution_count": 2,
   "id": "f42a0b6d-feec-46b0-a36f-e70866f77f78",
   "metadata": {},
   "outputs": [],
   "source": [
    "#Data\n",
    "\n",
    "before = np.array([50, 48, 52, 49, 51])\n",
    "after = np.array([55, 53, 56, 51, 57])"
   ]
  },
  {
   "cell_type": "code",
   "execution_count": 3,
   "id": "39f7dc9f-3579-468b-9a9d-e9a1a33a83aa",
   "metadata": {},
   "outputs": [],
   "source": [
    "# Step 1: Perform paired t-test\n",
    "\n",
    "t_stat, p_value = ttest_rel(after, before)"
   ]
  },
  {
   "cell_type": "code",
   "execution_count": 4,
   "id": "d530b4dc-f0db-4d32-9524-6385fd912647",
   "metadata": {},
   "outputs": [
    {
     "name": "stdout",
     "output_type": "stream",
     "text": [
      "Paired t-Test Results:\n",
      "t-statistic = 6.487\n",
      "p-value = 0.0029\n"
     ]
    }
   ],
   "source": [
    "#Step 2: Print results\n",
    "\n",
    "print(\"Paired t-Test Results:\")\n",
    "print(f\"t-statistic = {t_stat:.3f}\")\n",
    "print(f\"p-value = {p_value:.4f}\")"
   ]
  },
  {
   "cell_type": "code",
   "execution_count": 6,
   "id": "b8eee0a9-4b79-4c46-b456-724b27eb4a1d",
   "metadata": {},
   "outputs": [
    {
     "name": "stdout",
     "output_type": "stream",
     "text": [
      "\n",
      "Conclusion: Reject the null hypothesis.\n",
      "The training program had a significant effect on employee productivity.\n"
     ]
    }
   ],
   "source": [
    "#Step 3: Decision at a = 0.05\n",
    "\n",
    "alpha = 0.05\n",
    "if p_value < alpha:\n",
    "    print(\"\\nConclusion: Reject the null hypothesis.\")\n",
    "    print(\"The training program had a significant effect on employee productivity.\")\n",
    "else:\n",
    "    print(\"\\nConclusion: Fail to reject teh null hypothesis.\")\n",
    "    print(\"The training program did not have a significant effect on employee productivity\")"
   ]
  },
  {
   "cell_type": "code",
   "execution_count": null,
   "id": "3630e308-9981-4c69-9311-424d46691aed",
   "metadata": {},
   "outputs": [],
   "source": []
  }
 ],
 "metadata": {
  "kernelspec": {
   "display_name": "Python [conda env:base] *",
   "language": "python",
   "name": "conda-base-py"
  },
  "language_info": {
   "codemirror_mode": {
    "name": "ipython",
    "version": 3
   },
   "file_extension": ".py",
   "mimetype": "text/x-python",
   "name": "python",
   "nbconvert_exporter": "python",
   "pygments_lexer": "ipython3",
   "version": "3.13.5"
  }
 },
 "nbformat": 4,
 "nbformat_minor": 5
}
