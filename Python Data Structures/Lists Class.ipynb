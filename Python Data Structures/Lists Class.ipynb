{
 "cells": [
  {
   "cell_type": "code",
   "execution_count": 1,
   "id": "da83b769-9e91-45a1-a12f-6f20a40a7709",
   "metadata": {},
   "outputs": [],
   "source": [
    "Instruments = [\"Guitar\", \"Piano\", \"Drums\",\"Violin\",\"Flute\",\"Trumpet\"]"
   ]
  },
  {
   "cell_type": "code",
   "execution_count": 2,
   "id": "03795384-4c33-4b93-9c14-ebdd989c08c3",
   "metadata": {},
   "outputs": [
    {
     "name": "stdout",
     "output_type": "stream",
     "text": [
      "['Guitar', 'Piano', 'Drums', 'Violin', 'Flute', 'Trumpet']\n"
     ]
    }
   ],
   "source": [
    "print(Instruments)"
   ]
  },
  {
   "cell_type": "code",
   "execution_count": 7,
   "id": "273c24f1-860d-40ee-9f70-8d846627d781",
   "metadata": {},
   "outputs": [
    {
     "name": "stdout",
     "output_type": "stream",
     "text": [
      "['Drums', 'Flute', 'Guitar', 'Piano', 'Trumpet', 'Violin', 'Saxophone']\n"
     ]
    }
   ],
   "source": [
    "Instruments.append(\"Saxophone\")\n",
    "print(Instruments)"
   ]
  },
  {
   "cell_type": "code",
   "execution_count": 8,
   "id": "de51e897-1a87-4e90-89e6-60165a483293",
   "metadata": {},
   "outputs": [
    {
     "name": "stdout",
     "output_type": "stream",
     "text": [
      "['Drums', 'Clarinet', 'Flute', 'Guitar', 'Piano', 'Trumpet', 'Violin', 'Saxophone']\n"
     ]
    }
   ],
   "source": [
    "Instruments.insert(1, \"Clarinet\")\n",
    "print(Instruments)"
   ]
  },
  {
   "cell_type": "code",
   "execution_count": null,
   "id": "49438e3a-b744-4eee-9cc6-ae8979246fed",
   "metadata": {},
   "outputs": [],
   "source": [
    "instruments.remove(\"Drums\")\n",
    "print(\"After removing Drums:\", nstruments)"
   ]
  }
 ],
 "metadata": {
  "kernelspec": {
   "display_name": "Python [conda env:base] *",
   "language": "python",
   "name": "conda-base-py"
  },
  "language_info": {
   "codemirror_mode": {
    "name": "ipython",
    "version": 3
   },
   "file_extension": ".py",
   "mimetype": "text/x-python",
   "name": "python",
   "nbconvert_exporter": "python",
   "pygments_lexer": "ipython3",
   "version": "3.13.5"
  }
 },
 "nbformat": 4,
 "nbformat_minor": 5
}
