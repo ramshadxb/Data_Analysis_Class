{
 "cells": [
  {
   "cell_type": "code",
   "execution_count": 1,
   "id": "fee63cf4-9b08-4422-ba0f-4e614abdab01",
   "metadata": {},
   "outputs": [
    {
     "name": "stdout",
     "output_type": "stream",
     "text": [
      "(('India', 'New Delhi'), ('Nepal', 'Kathmandu'), ('Japan', 'Tokyo'))\n"
     ]
    }
   ],
   "source": [
    "country = ((\"India\",\"New Delhi\"),(\"Nepal\",\"Kathmandu\"),(\"Japan\",\"Tokyo\"))\n",
    "\n",
    "print(country)"
   ]
  },
  {
   "cell_type": "code",
   "execution_count": 2,
   "id": "6166cb9e-e3d1-4a16-83f5-d53e784aa93f",
   "metadata": {},
   "outputs": [
    {
     "name": "stdout",
     "output_type": "stream",
     "text": [
      "Kathmandu\n"
     ]
    }
   ],
   "source": [
    "print(country[1][1])"
   ]
  },
  {
   "cell_type": "code",
   "execution_count": 3,
   "id": "fe338703-89aa-4026-a600-b0fbc859ae32",
   "metadata": {},
   "outputs": [
    {
     "name": "stdout",
     "output_type": "stream",
     "text": [
      "40\n"
     ]
    }
   ],
   "source": [
    "nums = ((10, 20), (30, 40), (50, 60))\n",
    "\n",
    "print(nums[1][1])"
   ]
  },
  {
   "cell_type": "code",
   "execution_count": 4,
   "id": "5de2d208-c087-48bf-a0be-9b7fb10bd7fc",
   "metadata": {},
   "outputs": [
    {
     "name": "stdout",
     "output_type": "stream",
     "text": [
      "(('x', (1, 2)), ('y', (3, 4)))\n"
     ]
    }
   ],
   "source": [
    "nested = ((\"x\", (1, 2)), (\"y\", (3, 4)))\n",
    "print(nested)"
   ]
  },
  {
   "cell_type": "code",
   "execution_count": 5,
   "id": "9c12ed15-1f0f-41e2-9756-9da972d18da4",
   "metadata": {},
   "outputs": [
    {
     "name": "stdout",
     "output_type": "stream",
     "text": [
      "2\n"
     ]
    }
   ],
   "source": [
    "print(nested[0][1][1])"
   ]
  },
  {
   "cell_type": "code",
   "execution_count": 9,
   "id": "f28da41f-4c24-409e-8a17-87e74f95f5cd",
   "metadata": {},
   "outputs": [
    {
     "name": "stdout",
     "output_type": "stream",
     "text": [
      "y\n"
     ]
    }
   ],
   "source": [
    "print(nested[1][0])"
   ]
  },
  {
   "cell_type": "code",
   "execution_count": 11,
   "id": "d3899853-4ce0-4889-b69a-bdf64d8874a5",
   "metadata": {},
   "outputs": [
    {
     "name": "stdout",
     "output_type": "stream",
     "text": [
      "(('Shumail', 14, 89), ('Prajwal', 16, 90), ('Lepakshi', 17, 99))\n"
     ]
    }
   ],
   "source": [
    "students = ((\"Shumail\",14,89),(\"Prajwal\",16,90),(\"Lepakshi\",17,99))\n",
    "\n",
    "print(students)"
   ]
  },
  {
   "cell_type": "code",
   "execution_count": 12,
   "id": "01ea1fa0-daf0-41d6-9932-70c87a1ee98c",
   "metadata": {},
   "outputs": [
    {
     "name": "stdout",
     "output_type": "stream",
     "text": [
      "90\n"
     ]
    }
   ],
   "source": [
    "print(students[1][2])"
   ]
  },
  {
   "cell_type": "code",
   "execution_count": null,
   "id": "ea463fdc-4508-4a82-b12d-be8cf0da6aef",
   "metadata": {},
   "outputs": [],
   "source": []
  }
 ],
 "metadata": {
  "kernelspec": {
   "display_name": "Python [conda env:base] *",
   "language": "python",
   "name": "conda-base-py"
  },
  "language_info": {
   "codemirror_mode": {
    "name": "ipython",
    "version": 3
   },
   "file_extension": ".py",
   "mimetype": "text/x-python",
   "name": "python",
   "nbconvert_exporter": "python",
   "pygments_lexer": "ipython3",
   "version": "3.13.5"
  }
 },
 "nbformat": 4,
 "nbformat_minor": 5
}
