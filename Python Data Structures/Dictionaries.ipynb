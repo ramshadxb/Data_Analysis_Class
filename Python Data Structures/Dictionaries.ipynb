{
 "cells": [
  {
   "cell_type": "code",
   "execution_count": 1,
   "id": "c8ef9fb0-2d4f-4bae-b61f-b7e136e9eab8",
   "metadata": {},
   "outputs": [],
   "source": [
    "student = {\"name\": \"Ali\", \"age\": 20, \"grade\": \"A\"}"
   ]
  },
  {
   "cell_type": "code",
   "execution_count": 2,
   "id": "04cea33f-1466-44d8-b738-15daa0ba3220",
   "metadata": {},
   "outputs": [
    {
     "name": "stdout",
     "output_type": "stream",
     "text": [
      "dict_keys(['name', 'age', 'grade'])\n"
     ]
    }
   ],
   "source": [
    "print(student.keys())"
   ]
  },
  {
   "cell_type": "code",
   "execution_count": 4,
   "id": "b5cbafdc-c139-47d4-b0a4-44c63705554d",
   "metadata": {},
   "outputs": [
    {
     "name": "stdout",
     "output_type": "stream",
     "text": [
      "name\n",
      "age\n",
      "grade\n"
     ]
    }
   ],
   "source": [
    "for keys in student.keys():\n",
    "    print (keys)"
   ]
  },
  {
   "cell_type": "code",
   "execution_count": 5,
   "id": "578b4697-7ee3-4479-b9e9-53f2a7abf3d6",
   "metadata": {},
   "outputs": [],
   "source": [
    "prices = {\"apple\": 50, \"banana\": 20, \"mango\": 60}\n"
   ]
  },
  {
   "cell_type": "code",
   "execution_count": 6,
   "id": "83e412ad-6ef7-4e71-9f9d-713468ff596b",
   "metadata": {},
   "outputs": [
    {
     "name": "stdout",
     "output_type": "stream",
     "text": [
      "dict_values([50, 20, 60])\n"
     ]
    }
   ],
   "source": [
    "print(prices.values())"
   ]
  },
  {
   "cell_type": "code",
   "execution_count": 7,
   "id": "71fb0828-2465-4abf-bbb1-045e84318bc1",
   "metadata": {},
   "outputs": [],
   "source": [
    "total_price = sum(prices.values())"
   ]
  },
  {
   "cell_type": "code",
   "execution_count": 8,
   "id": "1be08a2e-34be-4194-9359-964e5e56c747",
   "metadata": {},
   "outputs": [
    {
     "name": "stdout",
     "output_type": "stream",
     "text": [
      "130\n"
     ]
    }
   ],
   "source": [
    "print(total_price)"
   ]
  },
  {
   "cell_type": "code",
   "execution_count": 9,
   "id": "bb1bf766-45d5-4551-84f7-54b7e081ee57",
   "metadata": {},
   "outputs": [],
   "source": [
    "person = {\"name\": \"Sara\", \"city\": \"Delhi\", \"age\": 25}"
   ]
  },
  {
   "cell_type": "code",
   "execution_count": 10,
   "id": "a344f62c-d9a4-49e8-bd53-085db532e3b0",
   "metadata": {},
   "outputs": [
    {
     "name": "stdout",
     "output_type": "stream",
     "text": [
      "dict_items([('name', 'Sara'), ('city', 'Delhi'), ('age', 25)])\n"
     ]
    }
   ],
   "source": [
    "print(person.items())"
   ]
  },
  {
   "cell_type": "code",
   "execution_count": 14,
   "id": "d0f68d4d-1f39-44eb-b9d7-7081919c87a0",
   "metadata": {},
   "outputs": [
    {
     "name": "stdout",
     "output_type": "stream",
     "text": [
      "name Sara\n",
      "city Delhi\n",
      "age 25\n"
     ]
    }
   ],
   "source": [
    "for k, v in person.items():\n",
    "    print(k,v)"
   ]
  },
  {
   "cell_type": "code",
   "execution_count": 15,
   "id": "09626a38-c4db-4a1e-b9ff-86d758ab6dec",
   "metadata": {},
   "outputs": [],
   "source": [
    "student = {\"name\": \"Ali\", \"age\": 20}\n",
    "new_info = {\"grade\": \"A\", \"city\": \"Mumbai\"}"
   ]
  },
  {
   "cell_type": "code",
   "execution_count": 18,
   "id": "083d6fcb-f17e-4bec-a8c0-0277cd83692d",
   "metadata": {},
   "outputs": [],
   "source": [
    "student.update(new_info)"
   ]
  },
  {
   "cell_type": "code",
   "execution_count": 20,
   "id": "ab6b067d-4343-48fd-92d7-1ad62dea6831",
   "metadata": {},
   "outputs": [
    {
     "name": "stdout",
     "output_type": "stream",
     "text": [
      "{'name': 'Ali', 'age': 20, 'grade': 'A', 'city': 'Mumbai'}\n"
     ]
    }
   ],
   "source": [
    "print(student)"
   ]
  },
  {
   "cell_type": "code",
   "execution_count": 21,
   "id": "e47863f3-fc4f-426f-aeaa-1dbda8c5ead2",
   "metadata": {},
   "outputs": [],
   "source": [
    "student.update({\"email\":\"ali@example.com\"})"
   ]
  },
  {
   "cell_type": "code",
   "execution_count": 22,
   "id": "31166315-c128-4ff7-8b08-b739379cf64b",
   "metadata": {},
   "outputs": [
    {
     "name": "stdout",
     "output_type": "stream",
     "text": [
      "{'name': 'Ali', 'age': 20, 'grade': 'A', 'city': 'Mumbai', 'email': 'ali@example.com'}\n"
     ]
    }
   ],
   "source": [
    "print(student)"
   ]
  },
  {
   "cell_type": "code",
   "execution_count": 23,
   "id": "9468331d-aa23-48f7-8afc-bcac0a430e53",
   "metadata": {},
   "outputs": [],
   "source": [
    "car = {\"brand\": \"Toyota\", \"model\": \"Corolla\", \"year\": 2020}"
   ]
  },
  {
   "cell_type": "code",
   "execution_count": 25,
   "id": "49e8457a-a705-4cfc-9432-06407c24fb70",
   "metadata": {},
   "outputs": [
    {
     "data": {
      "text/plain": [
       "2020"
      ]
     },
     "execution_count": 25,
     "metadata": {},
     "output_type": "execute_result"
    }
   ],
   "source": [
    "car.pop(\"year\")"
   ]
  },
  {
   "cell_type": "code",
   "execution_count": 26,
   "id": "673b98e2-a64b-4d3f-be23-8795d81328f6",
   "metadata": {},
   "outputs": [
    {
     "name": "stdout",
     "output_type": "stream",
     "text": [
      "{'brand': 'Toyota', 'model': 'Corolla'}\n"
     ]
    }
   ],
   "source": [
    "print(car)"
   ]
  },
  {
   "cell_type": "code",
   "execution_count": 27,
   "id": "0ced10ee-bc5e-4a04-a8fd-ec37583b67f6",
   "metadata": {},
   "outputs": [],
   "source": [
    "data = {\"a\": 1, \"b\": 2, \"c\": 3}"
   ]
  },
  {
   "cell_type": "code",
   "execution_count": 28,
   "id": "e7abb941-b92c-4856-afe1-965e168ce518",
   "metadata": {},
   "outputs": [],
   "source": [
    "data.clear()"
   ]
  },
  {
   "cell_type": "code",
   "execution_count": 29,
   "id": "73a5cb47-7886-418d-b019-63362deaf2f1",
   "metadata": {},
   "outputs": [
    {
     "name": "stdout",
     "output_type": "stream",
     "text": [
      "{}\n"
     ]
    }
   ],
   "source": [
    "print(data)"
   ]
  },
  {
   "cell_type": "code",
   "execution_count": 30,
   "id": "a95fc64d-54d2-4b3e-b719-057c8b643b0a",
   "metadata": {},
   "outputs": [],
   "source": [
    "student = {\"name\": \"Ramsha\", \"age\": 25, \"course\": \"Data Science\"}"
   ]
  },
  {
   "cell_type": "code",
   "execution_count": 31,
   "id": "64f8bc75-63f1-4c93-8d7a-70985f188a67",
   "metadata": {},
   "outputs": [
    {
     "name": "stdout",
     "output_type": "stream",
     "text": [
      "dict_keys(['name', 'age', 'course'])\n"
     ]
    }
   ],
   "source": [
    "print(student.keys())"
   ]
  },
  {
   "cell_type": "code",
   "execution_count": 32,
   "id": "0c398d13-d19c-40d7-a3d9-e08d417f43d0",
   "metadata": {},
   "outputs": [
    {
     "name": "stdout",
     "output_type": "stream",
     "text": [
      "dict_values(['Ramsha', 25, 'Data Science'])\n"
     ]
    }
   ],
   "source": [
    "print(student.values())"
   ]
  },
  {
   "cell_type": "code",
   "execution_count": 33,
   "id": "42e748ec-5fcb-4370-8ab7-eae190c7c0c6",
   "metadata": {},
   "outputs": [
    {
     "name": "stdout",
     "output_type": "stream",
     "text": [
      "dict_items([('name', 'Ramsha'), ('age', 25), ('course', 'Data Science')])\n"
     ]
    }
   ],
   "source": [
    "print(student.items())"
   ]
  },
  {
   "cell_type": "code",
   "execution_count": 34,
   "id": "fc1e37b1-106c-438a-8ff9-0b208941d143",
   "metadata": {},
   "outputs": [],
   "source": [
    "student.update({\"grade\": \"A\"})"
   ]
  },
  {
   "cell_type": "code",
   "execution_count": 35,
   "id": "a16d23a2-a04f-49f9-b017-90ac8f4e643d",
   "metadata": {},
   "outputs": [
    {
     "name": "stdout",
     "output_type": "stream",
     "text": [
      "{'name': 'Ramsha', 'age': 25, 'course': 'Data Science', 'grade': 'A'}\n"
     ]
    }
   ],
   "source": [
    "print(student)"
   ]
  },
  {
   "cell_type": "code",
   "execution_count": 38,
   "id": "52158caf-0262-4cbb-8957-e6f185b20720",
   "metadata": {},
   "outputs": [
    {
     "data": {
      "text/plain": [
       "'Data Science'"
      ]
     },
     "execution_count": 38,
     "metadata": {},
     "output_type": "execute_result"
    }
   ],
   "source": [
    "student.pop(\"course\")"
   ]
  },
  {
   "cell_type": "code",
   "execution_count": 39,
   "id": "0369c060-7239-40b0-a447-591b5ce68fa7",
   "metadata": {},
   "outputs": [
    {
     "name": "stdout",
     "output_type": "stream",
     "text": [
      "{'name': 'Ramsha', 'age': 25, 'grade': 'A'}\n"
     ]
    }
   ],
   "source": [
    "print(student)"
   ]
  },
  {
   "cell_type": "code",
   "execution_count": 40,
   "id": "f11c4e6f-8276-442b-a30e-a2ecc1ff8224",
   "metadata": {},
   "outputs": [],
   "source": [
    "student.clear()"
   ]
  },
  {
   "cell_type": "code",
   "execution_count": 41,
   "id": "53d79b43-bb67-484e-b8b2-5b7026f6210f",
   "metadata": {},
   "outputs": [
    {
     "name": "stdout",
     "output_type": "stream",
     "text": [
      "{}\n"
     ]
    }
   ],
   "source": [
    "print(student)"
   ]
  },
  {
   "cell_type": "markdown",
   "id": "eb28f061-4b2b-4f4e-a3e8-57b386e95ba9",
   "metadata": {},
   "source": [
    "Sets"
   ]
  },
  {
   "cell_type": "code",
   "execution_count": 42,
   "id": "c985d2a7-b5c0-4a68-a96f-1b68f05a49ab",
   "metadata": {},
   "outputs": [],
   "source": [
    "fruits = {\"apple\", \"banana\"}"
   ]
  },
  {
   "cell_type": "code",
   "execution_count": 45,
   "id": "3881a562-64e2-4d29-8638-883697216aa1",
   "metadata": {},
   "outputs": [
    {
     "name": "stdout",
     "output_type": "stream",
     "text": [
      "{'apple', 'mango', 'orange', 'banana'}\n"
     ]
    }
   ],
   "source": [
    "fruits.add(\"mango\")\n",
    "fruits.add(\"orange\")\n",
    "print(fruits)"
   ]
  },
  {
   "cell_type": "code",
   "execution_count": 46,
   "id": "292dfccb-ceb0-4c7b-9749-c7425b121dc0",
   "metadata": {},
   "outputs": [
    {
     "name": "stdout",
     "output_type": "stream",
     "text": [
      "{1, 2, 4, 5}\n"
     ]
    }
   ],
   "source": [
    "numbers = {1, 2, 3, 4, 5}\n",
    "numbers.remove(3)\n",
    "print(numbers)"
   ]
  },
  {
   "cell_type": "code",
   "execution_count": 50,
   "id": "909217e3-dbb5-4aea-830b-0091fb0d822b",
   "metadata": {},
   "outputs": [
    {
     "name": "stdout",
     "output_type": "stream",
     "text": [
      "{'lion', 'dog'}\n"
     ]
    }
   ],
   "source": [
    "animals = {\"dog\", \"cat\", \"lion\"}\n",
    "animals.discard(\"cat\")\n",
    "print(animals)"
   ]
  },
  {
   "cell_type": "code",
   "execution_count": 51,
   "id": "20b09533-850b-4015-a55a-7718323df560",
   "metadata": {},
   "outputs": [
    {
     "name": "stdout",
     "output_type": "stream",
     "text": [
      "{'lion', 'dog'}\n"
     ]
    }
   ],
   "source": [
    "animals.discard(\"tiger\")\n",
    "print(animals)"
   ]
  },
  {
   "cell_type": "code",
   "execution_count": 52,
   "id": "b41be84a-978b-4b6d-85ba-775bdaff0baf",
   "metadata": {},
   "outputs": [
    {
     "name": "stdout",
     "output_type": "stream",
     "text": [
      "{'green', 'red', 'blue'}\n"
     ]
    }
   ],
   "source": [
    "set1 = {\"red\", \"blue\"}\n",
    "set2 = {\"green\", \"blue\"}\n",
    "# Find union of set1 and set2\n",
    "new_set= set1.union(set2)\n",
    "print(new_set)"
   ]
  },
  {
   "cell_type": "code",
   "execution_count": 55,
   "id": "992075fe-fcfb-4be6-98ab-ba838620b3a1",
   "metadata": {},
   "outputs": [
    {
     "name": "stdout",
     "output_type": "stream",
     "text": [
      "{'John', 'Sara'}\n"
     ]
    }
   ],
   "source": [
    "students_A = {\"Ali\", \"Sara\", \"John\"}\n",
    "students_B = {\"Sara\", \"David\", \"John\"}\n",
    "# Find students enrolled in both A and B\n",
    "new_students = students_A.intersection(students_B)\n",
    "print(new_students)"
   ]
  },
  {
   "cell_type": "code",
   "execution_count": 56,
   "id": "6932a543-a494-41d7-b072-79a1a49429f1",
   "metadata": {},
   "outputs": [
    {
     "name": "stdout",
     "output_type": "stream",
     "text": [
      "{'John', 'Ali'}\n"
     ]
    }
   ],
   "source": [
    "python_class = {\"Ali\", \"Sara\", \"John\", \"David\"}\n",
    "java_class = {\"Sara\", \"David\"}\n",
    "# Find students who are in Python class but not in Java class\n",
    "new_class = python_class.difference(java_class)\n",
    "print(new_class)"
   ]
  },
  {
   "cell_type": "code",
   "execution_count": 57,
   "id": "3c3112f6-6e2c-4c77-bc8a-451851c8292c",
   "metadata": {},
   "outputs": [
    {
     "name": "stdout",
     "output_type": "stream",
     "text": [
      "set()\n"
     ]
    }
   ],
   "source": [
    "colors = {\"red\", \"green\", \"blue\"}\n",
    "# Clear all elements from the set\n",
    "colors.clear()\n",
    "print(colors)"
   ]
  },
  {
   "cell_type": "code",
   "execution_count": null,
   "id": "648a7c30-9f8b-4a87-af76-f0025b8d04cc",
   "metadata": {},
   "outputs": [],
   "source": []
  }
 ],
 "metadata": {
  "kernelspec": {
   "display_name": "Python [conda env:base] *",
   "language": "python",
   "name": "conda-base-py"
  },
  "language_info": {
   "codemirror_mode": {
    "name": "ipython",
    "version": 3
   },
   "file_extension": ".py",
   "mimetype": "text/x-python",
   "name": "python",
   "nbconvert_exporter": "python",
   "pygments_lexer": "ipython3",
   "version": "3.13.5"
  }
 },
 "nbformat": 4,
 "nbformat_minor": 5
}
