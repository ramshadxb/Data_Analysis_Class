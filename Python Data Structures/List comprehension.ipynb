{
 "cells": [
  {
   "cell_type": "code",
   "execution_count": 1,
   "id": "76571cee-1ee6-4a31-89c1-db77e933f189",
   "metadata": {},
   "outputs": [
    {
     "name": "stdout",
     "output_type": "stream",
     "text": [
      "[3, 6, 9, 12, 15, 18]\n"
     ]
    }
   ],
   "source": [
    "#Create a list of all numbers from 1 to 20 that are divisible by 3.\n",
    "\n",
    "div_num = [x for x in range(1,21) if x % 3 == 0]\n",
    "print(div_num)"
   ]
  },
  {
   "cell_type": "code",
   "execution_count": 2,
   "id": "1164cb40-26aa-43b2-8742-961475aa638f",
   "metadata": {},
   "outputs": [
    {
     "name": "stdout",
     "output_type": "stream",
     "text": [
      "[1, 9, 25, 49, 81]\n"
     ]
    }
   ],
   "source": [
    "#Create a list of squares of all odd numbers from 1 to 10.\n",
    "\n",
    "odd_num = [x ** 2 for x in range(1,11) if x % 2 !=0]\n",
    "print(odd_num)"
   ]
  },
  {
   "cell_type": "code",
   "execution_count": 6,
   "id": "a628a1a3-1a4a-4c4a-a781-860b2f1b2ac1",
   "metadata": {},
   "outputs": [
    {
     "name": "stdout",
     "output_type": "stream",
     "text": [
      "['o', 'e', 'e', 'i', 'o']\n"
     ]
    }
   ],
   "source": [
    "#Create a list of vowels from a given string. String = “comprehension”\n",
    "\n",
    "word = \"comprehension\"\n",
    "\n",
    "character = [char for char in word if char in \"aeiou\"]\n",
    "print(character)"
   ]
  },
  {
   "cell_type": "code",
   "execution_count": null,
   "id": "940fb0ab-9901-4f8f-ad02-d27f58360cba",
   "metadata": {},
   "outputs": [],
   "source": []
  }
 ],
 "metadata": {
  "kernelspec": {
   "display_name": "Python [conda env:base] *",
   "language": "python",
   "name": "conda-base-py"
  },
  "language_info": {
   "codemirror_mode": {
    "name": "ipython",
    "version": 3
   },
   "file_extension": ".py",
   "mimetype": "text/x-python",
   "name": "python",
   "nbconvert_exporter": "python",
   "pygments_lexer": "ipython3",
   "version": "3.13.5"
  }
 },
 "nbformat": 4,
 "nbformat_minor": 5
}
